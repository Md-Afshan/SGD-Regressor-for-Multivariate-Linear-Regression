{
 "cells": [
  {
   "cell_type": "code",
   "execution_count": 10,
   "id": "5f841d83",
   "metadata": {},
   "outputs": [
    {
     "name": "stdout",
     "output_type": "stream",
     "text": [
      "Mean Square Error: 2.554138757523082\n",
      "\n",
      "Predictions:\n",
      " [[ 1.07255005 35.78242733]\n",
      " [ 1.5032463  35.75941432]\n",
      " [ 2.32391318 35.53351521]\n",
      " [ 2.6637651  35.53156003]\n",
      " [ 2.08173189 35.66583497]]\n"
     ]
    }
   ],
   "source": [
    "import numpy as np\n",
    "from sklearn.datasets import fetch_california_housing\n",
    "from sklearn.linear_model import SGDRegressor\n",
    "from sklearn.multioutput import MultiOutputRegressor\n",
    "from sklearn.model_selection import train_test_split\n",
    "from sklearn.metrics import mean_squared_error\n",
    "from sklearn.preprocessing import StandardScaler\n",
    "data=fetch_california_housing()\n",
    "X=data.data[:,:3]\n",
    "Y=np.column_stack((data.target,data.data[:,6]))\n",
    "X_train,X_test,Y_train,Y_test=train_test_split(X,Y,test_size=0.2,random_state=42)\n",
    "scaler_X=StandardScaler()\n",
    "scaler_Y=StandardScaler()\n",
    "X_train =scaler_X.fit_transform(X_train)\n",
    "X_test=scaler_X.transform(X_test)\n",
    "Y_train=scaler_Y.fit_transform(Y_train)\n",
    "Y_test=scaler_Y.transform(Y_test)\n",
    "sgd=SGDRegressor(max_iter=1000, tol=1e-3)\n",
    "multi_output_sgd=MultiOutputRegressor(sgd)\n",
    "multi_output_sgd.fit(X_train,Y_train)\n",
    "Y_pred=multi_output_sgd.predict(X_test)\n",
    "Y_pred=scaler_Y.inverse_transform(Y_pred)\n",
    "Y_test=scaler_Y.inverse_transform(Y_test)\n",
    "mse=mean_squared_error(Y_test,Y_pred)\n",
    "print(\"Mean Square Error:\",mse)\n",
    "print(\"\\nPredictions:\\n\",Y_pred[:5])"
   ]
  }
 ],
 "metadata": {
  "kernelspec": {
   "display_name": "jupyter_env",
   "language": "python",
   "name": "python3"
  },
  "language_info": {
   "codemirror_mode": {
    "name": "ipython",
    "version": 3
   },
   "file_extension": ".py",
   "mimetype": "text/x-python",
   "name": "python",
   "nbconvert_exporter": "python",
   "pygments_lexer": "ipython3",
   "version": "3.10.18"
  }
 },
 "nbformat": 4,
 "nbformat_minor": 5
}
